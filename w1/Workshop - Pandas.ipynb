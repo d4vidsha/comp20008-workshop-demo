{
    "cells": [
        {
            "attachments": {},
            "cell_type": "markdown",
            "metadata": {},
            "source": [
                "# Introduction"
            ]
        },
        {
            "attachments": {},
            "cell_type": "markdown",
            "metadata": {},
            "source": [
                "Data proccessing pipelines move and transform data from one source to another such that it can be stored, used for analytics / Machine Learning, or combined with other data structures. In COMP20008, we will cover an end-to-end process to preprocess data, conduct analysis, perform Machine Learning tasks, and communicate findings.\n",
                "\n",
                "Here's a diagram provided depicting the \"Data Science\" pipeline we will cover in this subject:\n",
                "\n",
                "<img src=\"images/pipeline.png\" width=\"600\" height=\"300\"> \n",
                "\n",
                "## Workshop 1 Overview\n",
                "- On your first week as an intern, your manager wants you to familiarise yourself with the data, practice loading the data onto Pandas Series and DataFrames, and answer some basic summary questions about the ticket sales in 2018. \n",
                "- The dataset this week is a summarised ticket sales for 30 movies in 2018 through the EODP system.\n",
                "- These sales are summed up from more than 2000 movie sessions (which you will be presented with next week)\n",
                "\n",
                "Here's an example of what the dataset looks like:\n",
                "\n",
                "<table border=\"1\" class=\"dataframe\">\n",
                "  <thead>\n",
                "    <tr style=\"text-align: right;\">\n",
                "      <th></th>\n",
                "      <th>movie_name</th>\n",
                "      <th>classification</th>\n",
                "      <th>tickets_sold</th>\n",
                "      <th>max_capacity</th>\n",
                "    </tr>\n",
                "  </thead>\n",
                "  <tbody>\n",
                "    <tr>\n",
                "      <th>0</th>\n",
                "      <td>A Quiet Place</td>\n",
                "      <td>M</td>\n",
                "      <td>103813</td>\n",
                "      <td>427725</td>\n",
                "    </tr>\n",
                "    <tr>\n",
                "      <th>1</th>\n",
                "      <td>Alpha</td>\n",
                "      <td>PG</td>\n",
                "      <td>103596</td>\n",
                "      <td>422525</td>\n",
                "    </tr>\n",
                "    <tr>\n",
                "      <th>2</th>\n",
                "      <td>An Interview with God</td>\n",
                "      <td>PG</td>\n",
                "      <td>104182</td>\n",
                "      <td>426575</td>\n",
                "    </tr>\n",
                "    <tr>\n",
                "      <th>3</th>\n",
                "      <td>Animal World</td>\n",
                "      <td>G</td>\n",
                "      <td>108293</td>\n",
                "      <td>427300</td>\n",
                "    </tr>\n",
                "    <tr>\n",
                "      <th>4</th>\n",
                "      <td>Ant-Man and the Wasp</td>\n",
                "      <td>PG</td>\n",
                "      <td>104631</td>\n",
                "      <td>429350</td>\n",
                "    </tr>\n",
                "    <tr>\n",
                "      <th>5</th>\n",
                "      <td>Aquaman</td>\n",
                "      <td>M</td>\n",
                "      <td>102655</td>\n",
                "      <td>423100</td>\n",
                "    </tr>\n",
                "    <tr>\n",
                "      <th>6</th>\n",
                "      <td>Avengers: Infinity War</td>\n",
                "      <td>M</td>\n",
                "      <td>112178</td>\n",
                "      <td>424325</td>\n",
                "    </tr>\n",
                "    <tr>\n",
                "      <th>7</th>\n",
                "      <td>A-X-L</td>\n",
                "      <td>PG</td>\n",
                "      <td>99339</td>\n",
                "      <td>423200</td>\n",
                "    </tr>\n",
                "    <tr>\n",
                "      <th>8</th>\n",
                "      <td>Between Worlds</td>\n",
                "      <td>MA15+</td>\n",
                "      <td>103208</td>\n",
                "      <td>423375</td>\n",
                "    </tr>\n",
                "    <tr>\n",
                "      <th>9</th>\n",
                "      <td>Black Panther</td>\n",
                "      <td>M</td>\n",
                "      <td>108831</td>\n",
                "      <td>423375</td>\n",
                "    </tr>\n",
                "  </tbody>\n",
                "</table>\n",
                "\n",
                "As you can see, we have 4 features (also known as *columns* or *attributes*): Movie Name, Classification, Total Tickets Sold, and Total Capacity.\n",
                "\n",
                "## Learning objectives\n",
                "Become proficient in manipulating tabular data using Python's `pandas` package. `pandas` introduces powerful data structures for data analysis, time series, and statistical modelling. \n",
                "\n",
                "- Understand the data structures in the `Pandas` library: `Series`, `DataFrame`\n",
                "- Construct or load a Series or DataFrame using `Pandas`\n",
                "- Slicing and indexing using the `.loc[]` and `.iloc[]` methods\n",
                "- How to work with Series and DataFrames using *methods* and *attributes*\n",
                "- 5 Number Summary Statistics\n",
                "- Sorting, Filtering, and Grouping DataFrames\n",
                "- Problem Solving using a given dataset. \n",
                "- Learn to view and find functions using the API Documentation\n",
                "\n",
                "## Workshop Overview\n",
                "\n",
                "1. Load the `week1_booking_summary.csv` using `pandas`. Previously in COMP10001 you would have used the `csv` library.\n",
                "2. Calculate the occupancy rate for each movie.\n",
                "3. Get the classification rating of `'Ralph Breaks the Internet'`.\n",
                "4. Query and return the movie with the highest number of tickets sold.\n",
                "5. Sort the dataframe by Classification (ascending), Occupancy (descending), then Number of Tickets Sold (descending). Avoid outputting the Max Capacity feature. \n",
                "6. Filter the data to *only* show PG-Rated Movie.\n",
                "7. How many movies are there *in each classification category*? For each category, which movie has the *highest* sales? Which one has the *lowest* sales?"
            ]
        },
        {
            "attachments": {},
            "cell_type": "markdown",
            "metadata": {},
            "source": [
                "# Getting Started with Jupyter Notebook\n",
                "- Jupyter notebook is an extremely useful tool for developing and presenting projects (particularly in python).  You can include code segments and view their output directly in your browser.  You can also add rich text, visualisations, equations and more.\n",
                "\n",
                "- The difference between this and Grok (from COMP10001) is that you can run your code line by line (without having to run all of your code at once for an output)."
            ]
        },
        {
            "attachments": {},
            "cell_type": "markdown",
            "metadata": {},
            "source": [
                "## Cells\n",
                "Jupyter notebooks contains two main types of cells:\n",
                "- Markdown cells: These can be used to contain text, equations and other non-code items.  The cell that you're reading right now is a markdown cell.  You can use [Markdown](https://www.markdownguide.org/) to format your text.  If you prefer, you can also format your text using <b>HTML</b>.  Clicking the <button class='btn btn-default btn-xs'><i class=\"fa-play fa\"></i><span class=\"toolbar-btn-label\">Run</span></button> button button will format and display your text.\n",
                "- Code cells: These contain code segments that can be executed individually.  When executed, the output of the code will be displayed below the code cell.\n",
                "\n",
                "## Keyboard Shortcuts\n",
                "Cell Running shortcuts:\n",
                "- _You can tell you are selecting a cell when the outline is colored is green_\n",
                "- `shift + enter` : Run current cell - keyboard shortcut for the <button class='btn btn-default btn-xs'><i class=\"fa-play fa\"></i><span class=\"toolbar-btn-label\">Run</span></button> button\n",
                "- `ctrl + enter` : Run selected cells\n",
                "\n",
                "Command mode (press `esc` to enter):\n",
                "- - _You can tell you are in Command Mode when the outline is colored is blue_\n",
                "- Enter command mode pressing `esc` (blue highlight)\n",
                "- `a` to create a cell **above**\n",
                "- `b` to create a cell **below**\n",
                "- `dd` (double d) to **delete** a cell\n",
                "- `m` to make the cell render in **markdown**\n",
                "- `r` to make the cell render in **raw** text\n",
                "- `y` to make the cell render python code\n",
                "- `enter` to \"edit\" the cell\n",
                "\n",
                "Code Shortcuts:\n",
                "- `shift + tab` : brings function/method arguments up"
            ]
        },
        {
            "attachments": {},
            "cell_type": "markdown",
            "metadata": {},
            "source": [
                "# Pandas\n",
                "Depending on the use case, data come in various shapes and structures. One of the most common forms is *tabular data*, or data tables (think Excel spreadsheets or SQL tables). It's both human-readable and machine-readable, and it's easy to *vectorize* any transformation to our data. Here's a visualisation of what a DataFrame looks like:\n",
                "![Dataframe](images/dataframe.jpg)\n",
                "\n",
                "To work with tabular data in Python, we use the library `pandas`. We **strongly recommend** you bookmark the [API reference (Documentation)](https://pandas.pydata.org/pandas-docs/stable/reference/index.html) which will serve as a bible for this subject."
            ]
        },
        {
            "attachments": {},
            "cell_type": "markdown",
            "metadata": {},
            "source": [
                "## Installing Packages\n",
                "***If you are running this on the Ed Forum or via Anaconda (Python), you won't need to do this.***\n",
                "\n",
                "Depending on the installation of Jupyter Notebook and your OS (Operating System), you may need to *install* the `pandas` package. To do so, run the command that matches your system:\n",
                "```python\n",
                "# for Windows with only Python installed\n",
                "pip install pandas\n",
                "\n",
                "# for Mac or Linux with Python3 installed\n",
                "pip3 install pandas\n",
                "```"
            ]
        },
        {
            "attachments": {},
            "cell_type": "markdown",
            "metadata": {},
            "source": [
                "Like `collections` from COMP10001, we import `pandas` in the same manner. The only note here is that we are importing and giving it the alias `pd` to shorten the amount of code we need to write (`pd.DataFrame()` vs `pandas.DataFrame()`)"
            ]
        },
        {
            "cell_type": "code",
            "execution_count": null,
            "metadata": {},
            "outputs": [],
            "source": [
                "import pandas as pd"
            ]
        },
        {
            "attachments": {},
            "cell_type": "markdown",
            "metadata": {},
            "source": [
                "## <u>Concept: Series</u>\n",
                "A Series is a One-dimensional array-like object containing the array of data and an associated array of data labels called index. It's best to think of Series as a single column in Excel, or a vertical `list`-like object. Here's a visual example of what it looks like:\n",
                "\n",
                "![Dataframe](images/series.jpg)"
            ]
        },
        {
            "attachments": {},
            "cell_type": "markdown",
            "metadata": {},
            "source": [
                "### Creating a Pandas Series"
            ]
        },
        {
            "cell_type": "code",
            "execution_count": null,
            "metadata": {},
            "outputs": [],
            "source": [
                "# define a list of values\n",
                "sales_list = [107512, 103208, 99388, 103838, 104631]\n",
                "\n",
                "# create a Pandas series\n",
                "sales_series = pd.Series(sales_list)"
            ]
        },
        {
            "cell_type": "code",
            "execution_count": null,
            "metadata": {},
            "outputs": [],
            "source": [
                "# notice how we can just \"display\" the variable without printing it\n",
                "sales_series"
            ]
        },
        {
            "attachments": {},
            "cell_type": "markdown",
            "metadata": {},
            "source": [
                "### <u>Concept: Attributes and Methods of a Python object</u>\n",
                "The Pandas `series` also comes with useful attributes in methods. To be specific:  \n",
                "1. Attributes are static variables that are stored when the object is created.\n",
                "2. Methods are functions that a pre-defined with that object.\n",
                "\n",
                "Examples of `series` attributes:\n",
                "- `series.index` attribute (returns the index field like `dict.keys()`)\n",
                "- `series.values` attribute (returns the values like `dict.values()`)\n",
                "\n",
                "Examples of `series` methods:\n",
                "- `series.mean()` method (computes the average)\n",
                "- `series.sum()` method (computes the grand total sum)\n",
                "\n",
                "To get all the attributes and methods available, you can call `help(pd.Series)`. \n",
                "\n",
                "\n",
                "There are a lot of functions, methods and attributes in the `pandas` library, so we won't be covering all of them in this subject. We encourage students to look up the [API Documentation](https://pandas.pydata.org/pandas-docs/stable/reference/api/pandas.Series.html) if you wish to use something outside the scope of this subject.\n",
                "\n"
            ]
        },
        {
            "cell_type": "code",
            "execution_count": null,
            "metadata": {},
            "outputs": [],
            "source": [
                "# The default indexing starts from zero\n",
                "print(sales_series.index)\n",
                "\n",
                "# Retrieve the values of the series\n",
                "print(sales_series.values)"
            ]
        },
        {
            "cell_type": "code",
            "execution_count": null,
            "metadata": {},
            "outputs": [],
            "source": [
                "# Create your own index using lists\n",
                "# Indexes don't have to be integers!\n",
                "new_index = ['The Kissing Booth', \n",
                "            'Between Worlds', \n",
                "            'Sicario: Day of the Soldado', \n",
                "            'Spider-Man: Into the Spider-Verse', \n",
                "            'Ant-Man and the Wasp']\n",
                "\n",
                "sales_series.index  = new_index\n",
                "\n",
                "# Verify the index has been changed\n",
                "print(sales_series)"
            ]
        },
        {
            "attachments": {},
            "cell_type": "markdown",
            "metadata": {},
            "source": [
                "Like dictionaries, we can access values using `[]`"
            ]
        },
        {
            "cell_type": "code",
            "execution_count": null,
            "metadata": {},
            "outputs": [],
            "source": [
                "# Access the sales values based on index\n",
                "print(sales_series['Ant-Man and the Wasp'])"
            ]
        },
        {
            "cell_type": "code",
            "execution_count": null,
            "metadata": {},
            "outputs": [],
            "source": [
                "# Create a series from a python dict\n",
                "sales_dict = {'Dragon Ball Super: Origin of the Saiyans': 105982,\n",
                "              'Animal World': 108293,\n",
                "              'Avengers: Infinity War': 112178,\n",
                "              'A Quiet Place': 103813,\n",
                "              'Bumblebee': 106562}\n",
                "\n",
                "sales_series_dict = pd.Series(sales_dict)\n",
                "print(sales_series_dict)"
            ]
        },
        {
            "attachments": {},
            "cell_type": "markdown",
            "metadata": {},
            "source": [
                "If we want to concatenate two series together, we can use `pd.concat([LIST OF SERIES], axis='rows')`."
            ]
        },
        {
            "cell_type": "code",
            "execution_count": null,
            "metadata": {},
            "outputs": [],
            "source": [
                "# Vertically concatenate two series\n",
                "sales_series = pd.concat([sales_series, sales_series_dict], axis='rows')\n",
                "print(sales_series)"
            ]
        },
        {
            "attachments": {},
            "cell_type": "markdown",
            "metadata": {},
            "source": [
                "<blockquote style=\"padding: 10px;\">\n",
                "\n",
                "## Class Discussion Question  \n",
                "Is `pd.concat` a method or attribute?"
            ]
        },
        {
            "attachments": {},
            "cell_type": "markdown",
            "metadata": {},
            "source": [
                "Here are some operations that we can do (such as filtering the data).\n",
                "- Here, we use `.loc` to *locate* the values that fulfill the conditions. \n",
                "- `.iloc` can also be used which *locates* the *indicies* that correspond to the slice provided"
            ]
        },
        {
            "cell_type": "code",
            "execution_count": null,
            "metadata": {},
            "outputs": [],
            "source": [
                "# Slicing the series using index\n",
                "sales_series.loc['Ant-Man and the Wasp']"
            ]
        },
        {
            "cell_type": "code",
            "execution_count": null,
            "metadata": {},
            "outputs": [],
            "source": [
                "# This is an alternative syntax\n",
                "sales_series['Ant-Man and the Wasp']"
            ]
        },
        {
            "cell_type": "code",
            "execution_count": null,
            "metadata": {},
            "outputs": [],
            "source": [
                "# Slicing the series using a boolean array operation \n",
                "sales_series.loc[sales_series < 100000]"
            ]
        },
        {
            "cell_type": "code",
            "execution_count": null,
            "metadata": {},
            "outputs": [],
            "source": [
                "# Slicing the series using iloc\n",
                "sales_series.iloc[0:5]"
            ]
        },
        {
            "cell_type": "code",
            "execution_count": null,
            "metadata": {},
            "outputs": [],
            "source": [
                "# Doubling the values of the series object\n",
                "doubled = sales_series * 2\n",
                "doubled"
            ]
        },
        {
            "cell_type": "code",
            "execution_count": null,
            "metadata": {},
            "outputs": [],
            "source": [
                "# Finding the average value of the series\n",
                "sales_series.mean()"
            ]
        },
        {
            "cell_type": "code",
            "execution_count": null,
            "metadata": {},
            "outputs": [],
            "source": [
                "# Defining the column name\n",
                "sales_series.name = 'Total tickets sold'\n",
                "# Defining the name of the index\n",
                "sales_series.index.name = 'Movie Name'\n",
                "\n",
                "print(sales_series)"
            ]
        },
        {
            "attachments": {},
            "cell_type": "markdown",
            "metadata": {},
            "source": [
                "<blockquote style=\"padding: 10px;\">\n",
                "\n",
                "## Exercise\n",
                "1. 1. Find all movies that sold more than 100,000 but under 105,000 movie tickets.  \n",
                "_Hint: You may want to use `.loc[]` for this._  \n",
                "\n",
                "\n",
                "2. Find the grand total number of movie tickets sold."
            ]
        },
        {
            "cell_type": "code",
            "execution_count": null,
            "metadata": {},
            "outputs": [],
            "source": [
                "### ANSWER 1 HERE\n",
                "sales_series.loc[(sales_series > 100000) & (sales_series < 105000)]"
            ]
        },
        {
            "cell_type": "code",
            "execution_count": null,
            "metadata": {},
            "outputs": [],
            "source": [
                "### ANSWER 2 HERE\n",
                "sales_series.sum()"
            ]
        },
        {
            "attachments": {},
            "cell_type": "markdown",
            "metadata": {},
            "source": [
                "## <u>Concept: Dataframe</u>\n",
                "A DataFrame has both row and column indices like a `series` and contains many useful methods to aid your analysis. \n",
                "- [API reference](https://pandas.pydata.org/pandas-docs/stable/reference/index.html) details all of the functionality provided by `pandas`.  \n",
                "- You will particularly need consult the [DataFrame](https://pandas.pydata.org/pandas-docs/stable/reference/frame.html) reference page.\n",
                "\n",
                "\n",
                "Here's a visualisation of what a DataFrame looks like:\n",
                "![Dataframe](images/dataframe.jpg)"
            ]
        },
        {
            "attachments": {},
            "cell_type": "markdown",
            "metadata": {},
            "source": [
                "### Working with Pandas Dataframe"
            ]
        },
        {
            "cell_type": "code",
            "execution_count": null,
            "metadata": {},
            "outputs": [],
            "source": [
                "tickets_sold_dict =  {'The Kissing Booth': 107512,\n",
                "                        'Between Worlds': 103208,\n",
                "                        'Sicario: Day of the Soldado': 99388,\n",
                "                        'Spider-Man: Into the Spider-Verse': 103838,\n",
                "                        'Ant-Man and the Wasp': 104631, \n",
                "                        'Dragon Ball Super: Origin of the Saiyans': 105982,\n",
                "                        'Animal World': 108293,\n",
                "                        'Avengers: Infinity War': 112178,\n",
                "                        'A Quiet Place': 103813,\n",
                "                        'Bumblebee': 106562}\n",
                "\n",
                "tickets_sold = pd.Series(tickets_sold_dict)"
            ]
        },
        {
            "cell_type": "code",
            "execution_count": null,
            "metadata": {},
            "outputs": [],
            "source": [
                "max_capacity_dict = {'A Quiet Place': 427725,\n",
                "                      'Animal World': 427300,\n",
                "                      'Ant-Man and the Wasp': 429350,\n",
                "                      'Avengers: Infinity War': 424325,\n",
                "                      'Between Worlds': 423375,\n",
                "                      'Bumblebee': 427950,\n",
                "                      'Dragon Ball Super: Origin of the Saiyans': 423225,\n",
                "                      'Sicario: Day of the Soldado': 427950,\n",
                "                      'Spider-Man: Into the Spider-Verse': 428375,\n",
                "                      'The Kissing Booth': 418750}\n",
                "\n",
                "max_capacity = pd.Series(max_capacity_dict)"
            ]
        },
        {
            "cell_type": "code",
            "execution_count": null,
            "metadata": {},
            "outputs": [],
            "source": [
                "# create a DataFrame object from the series objects\n",
                "sales_df = pd.DataFrame({'tickets_sold': tickets_sold, \n",
                "                         'max_capacity': max_capacity})\n",
                "sales_df"
            ]
        },
        {
            "attachments": {},
            "cell_type": "markdown",
            "metadata": {},
            "source": [
                "As you can see, a DataFrame is essentially made up of several `series` (i.e columns or features)."
            ]
        },
        {
            "cell_type": "code",
            "execution_count": null,
            "metadata": {},
            "outputs": [],
            "source": [
                "# access a specific column (like dict[key])\n",
                "sales_df['tickets_sold']"
            ]
        },
        {
            "cell_type": "code",
            "execution_count": null,
            "metadata": {},
            "outputs": [],
            "source": [
                "# access multiple column (note the order)\n",
                "sales_df[['max_capacity', 'tickets_sold']]"
            ]
        },
        {
            "cell_type": "code",
            "execution_count": null,
            "metadata": {},
            "outputs": [],
            "source": [
                "# find movies which did not sell 100k tickets\n",
                "sales_df.loc[sales_df['tickets_sold'] < 100000]"
            ]
        },
        {
            "attachments": {},
            "cell_type": "markdown",
            "metadata": {},
            "source": [
                "<blockquote style=\"padding: 10px;\">\n",
                "\n",
                "## Class Discussion Question  \n",
                "What do you notice about the order of the movies?"
            ]
        },
        {
            "attachments": {},
            "cell_type": "markdown",
            "metadata": {},
            "source": [
                "## Reading and saving CSV's using Pandas\n",
                "Previously in COMP10001, you would have used the `csv` library. Putting those days behind us, we can now introduce a simple way of reading in files.\n",
                "\n",
                "\n",
                "Here, we will use the `df.head()` method which displays the first 5 rows by default. Correspondingly, the `df.tail()` method displays the last 5 rows by default."
            ]
        },
        {
            "cell_type": "code",
            "execution_count": null,
            "metadata": {},
            "outputs": [],
            "source": [
                "# create a DataFrame from a csv file\n",
                "total_sales = pd.read_csv('booking_summary.csv')\n",
                "total_sales.head(10)"
            ]
        },
        {
            "cell_type": "code",
            "execution_count": null,
            "metadata": {},
            "outputs": [],
            "source": [
                "# save a DataFrame as a csv file\n",
                "last_ten = total_sales.tail(10)\n",
                "last_ten.to_csv('last_ten.csv')\n",
                "\n",
                "# Read it back in. \n",
                "pd.read_csv('last_ten.csv')"
            ]
        },
        {
            "attachments": {},
            "cell_type": "markdown",
            "metadata": {},
            "source": [
                "Note how we have an `Unnamed: 0` column? That's the index column from when we exported the CSV. To ensure that Pandas do not need to save the index column, you can add the `index=False` to the `.to_csv()` method."
            ]
        },
        {
            "cell_type": "code",
            "execution_count": null,
            "metadata": {},
            "outputs": [],
            "source": [
                "# save a DataFrame as a csv file\n",
                "last_ten = total_sales.tail(10)\n",
                "last_ten.to_csv('last_ten.csv', index=False)\n",
                "\n",
                "# Read it back in. \n",
                "pd.read_csv('last_ten.csv')"
            ]
        },
        {
            "attachments": {},
            "cell_type": "markdown",
            "metadata": {},
            "source": [
                "<blockquote style=\"padding: 10px;\">\n",
                "\n",
                "## Exercise\n",
                "Count the number of movies in each classification. \n",
                "\n",
                "Hint: Try to search up _\"pandas count values in dataframe\"_"
            ]
        },
        {
            "cell_type": "code",
            "execution_count": null,
            "metadata": {},
            "outputs": [],
            "source": [
                "### ANSWER HERE\n",
                "total_sales['classification'].value_counts()"
            ]
        },
        {
            "attachments": {},
            "cell_type": "markdown",
            "metadata": {},
            "source": [
                "We will now set the `movie_name` as our index.\n",
                "\n",
                "**Follow-up Question: Why would we want to set the name of the movie as the index?**"
            ]
        },
        {
            "cell_type": "code",
            "execution_count": null,
            "metadata": {},
            "outputs": [],
            "source": [
                "# set the name of movie as the index\n",
                "total_sales = total_sales.set_index('movie_name')\n",
                "total_sales"
            ]
        },
        {
            "attachments": {},
            "cell_type": "markdown",
            "metadata": {},
            "source": [
                "<blockquote style=\"padding: 10px;\">\n",
                "\n",
                "## Exercise\n",
                "1. Calculate the occupancy rate for each movie. The occupancy rate is the number of tickets sold divided by the max capacity. Output this to a `'occupancy_rate'` column. Round the result to two decimal places using the `round()` function.\n",
                "\n",
                "2. Return only the `classification` and `'occupancy_rate'` of `'Ralph Breaks the Internet'` \n",
                "\n",
                "3. Get data row (known as an *instance*) of the movie with the highest occupancy rate. You may want to sort your values first using `df.sort_values(by=COLUMN)`\n",
                "\n",
                "4. Find the subset of movies that have a `PG` classification."
            ]
        },
        {
            "cell_type": "code",
            "execution_count": null,
            "metadata": {},
            "outputs": [],
            "source": [
                "### ANSWER 1 HERE\n",
                "# Calculate the occupancy rate for each movie. The occupancy rate is the number of tickets sold divided by the max capacity. Output this to a `'occupancy_rate'` column. Round the result to two decimal places using the `round()` function.\n",
                "total_sales['occupancy_rate'] = round(total_sales['tickets_sold'] / total_sales['max_capacity'], 2)\n",
                "total_sales"
            ]
        },
        {
            "cell_type": "code",
            "execution_count": null,
            "metadata": {},
            "outputs": [],
            "source": [
                "### ANSWER 2 HERE\n",
                "# Return only the `classification` and `'occupancy_rate'` of `'Ralph Breaks the Internet'` \n",
                "total_sales.loc['Ralph Breaks the Internet', ['classification', 'occupancy_rate']]"
            ]
        },
        {
            "cell_type": "code",
            "execution_count": null,
            "metadata": {},
            "outputs": [],
            "source": [
                "### ANSWER 3 HERE\n",
                "# Get data row (known as an *instance*) of the movie with the highest occupancy rate. You may want to sort your values first using `df.sort_values(by=COLUMN)`\n",
                "total_sales.sort_values(by='occupancy_rate', ascending=False).iloc[0]"
            ]
        },
        {
            "cell_type": "code",
            "execution_count": null,
            "metadata": {},
            "outputs": [],
            "source": [
                "### ANSWER 4 HERE\n",
                "# Find the subset of movies that have a `PG` classification.\n",
                "total_sales.loc[total_sales['classification'] == 'PG']"
            ]
        },
        {
            "attachments": {},
            "cell_type": "markdown",
            "metadata": {},
            "source": [
                "### Advanced: Sort the data over multiple columns\n",
                "To sort values over multiple columns, you can pass through a `list` of columns (in order) to the `by=` argument.\n",
                "\n",
                "Here's an example of sorting by:\n",
                "1. Classification ascending\n",
                "2. Occupancy rate descending\n",
                "3. Tickets sold descending"
            ]
        },
        {
            "cell_type": "code",
            "execution_count": null,
            "metadata": {},
            "outputs": [],
            "source": [
                "total_sales.sort_values(['classification', 'occupancy_rate', 'tickets_sold'],\n",
                "                       ascending=[True, False, False]).drop(['max_capacity'], axis='columns')"
            ]
        },
        {
            "attachments": {},
            "cell_type": "markdown",
            "metadata": {},
            "source": [
                "## <u>Concept: Group by</u>\n",
                "The `groupby` method lets you separate the data into different groups based off shared characteristics (akin to `itertools.groupby`). For example, we could group countries by region or income range, then analyse those groups individually.  \n",
                "\n",
                "The official documentation on groupby can be found [here](https://pandas.pydata.org/pandas-docs/stable/user_guide/groupby.html). [This tutorial](https://www.marsja.se/python-pandas-groupby-tutorial-examples/) is also well worth reading.\n",
                "\n",
                "\n",
                "Here's an example of finding the total number of tickets sold for each classification."
            ]
        },
        {
            "cell_type": "code",
            "execution_count": null,
            "metadata": {},
            "outputs": [],
            "source": [
                "total_sales.groupby('classification')['tickets_sold'].sum()"
            ]
        },
        {
            "attachments": {},
            "cell_type": "markdown",
            "metadata": {},
            "source": [
                "<blockquote style=\"padding: 10px;\">\n",
                "\n",
                "## Exercise\n",
                "1. How many movies are there in each classification category? Think of key search terms such as \"size\" or \"count\".\n",
                "\n",
                "2. Then, for each category, what is the `mean` number of tickets sold?"
            ]
        },
        {
            "cell_type": "code",
            "execution_count": null,
            "metadata": {},
            "outputs": [],
            "source": [
                "### ANSWER 1 HERE\n",
                "# How many movies are there in each classification category? Think of key search terms such as \"size\" or \"count\".\n",
                "total_sales.groupby('classification').size()"
            ]
        },
        {
            "cell_type": "code",
            "execution_count": null,
            "metadata": {},
            "outputs": [],
            "source": [
                "### ANSWER 2 HERE\n",
                "# Then, for each category, what is the `mean` number of tickets sold?\n",
                "total_sales.groupby('classification')['tickets_sold'].mean()"
            ]
        },
        {
            "attachments": {},
            "cell_type": "markdown",
            "metadata": {},
            "source": [
                "Finally, an advanced use case of groupby. Here, we are:\n",
                "- Getting the max capacity possible for the classification;\n",
                "- the average number of tickets sold for the classification;\n",
                "- and the average occupancy rate.\n",
                "\n",
                "The syntax for this is a dictionary using the `.agg()` method where the:\n",
                "- `key` corresponds to the column\n",
                "- `value` corresponds to the type of aggregation\n",
                "\n",
                "View more here: https://pandas.pydata.org/pandas-docs/stable/reference/api/pandas.DataFrame.agg.html"
            ]
        },
        {
            "cell_type": "code",
            "execution_count": null,
            "metadata": {},
            "outputs": [],
            "source": [
                "total_sales.groupby('classification').agg({'max_capacity': 'max', 'tickets_sold': 'mean', 'occupancy_rate': 'mean'})"
            ]
        },
        {
            "attachments": {},
            "cell_type": "markdown",
            "metadata": {},
            "source": [
                "# Challenge questions\n",
                "\n",
                "We don't give the answers to these questions, but we encourage students to discuss among themselves using the Ed forum. Some questions require use of functions or methods not covered in this tutorial, and some questions are open-ended (no fixed answer, depending on their arguments). We have provided this to give students a chance to get used to searching up the documentation."
            ]
        },
        {
            "attachments": {},
            "cell_type": "markdown",
            "metadata": {},
            "source": [
                "1. Suppose that the average purchase price per ticket is `$22.00`, what's the average dollar sales for `MA15+` movies? Compared this to the median dollar sales for `M`-rated movies.\n",
                "\n",
                "2. How many movies have a title that begins with `\"T\"`? \n",
                "\n",
                "3. Which movies tend to have better occupancy rate: low sales with low capacity, or high sales with high capacity?\n",
                "\n",
                "4. How many movies have a below-average occupancy rate in each classification category?"
            ]
        },
        {
            "cell_type": "code",
            "execution_count": null,
            "metadata": {},
            "outputs": [],
            "source": [
                "# Suppose that the average purchase price per ticket is `$22.00`, what's the average dollar sales for `MA15+` movies? Compared this to the median dollar sales for `M`-rated movies.\n",
                "total_sales['dollar_sales'] = total_sales['tickets_sold'] * 22\n",
                "total_sales.groupby('classification')['dollar_sales'].mean()"
            ]
        },
        {
            "cell_type": "code",
            "execution_count": null,
            "metadata": {},
            "outputs": [],
            "source": [
                "# How many movies have a title that begins with `\"T\"`? \n",
                "total_sales.index.str.startswith('T').sum()"
            ]
        },
        {
            "cell_type": "code",
            "execution_count": null,
            "metadata": {},
            "outputs": [],
            "source": [
                "# Which movies tend to have better occupancy rate: low sales with low capacity, or high sales with high capacity?\n",
                "total_sales['occupancy_rate'].corr(total_sales['max_capacity'])"
            ]
        },
        {
            "cell_type": "code",
            "execution_count": null,
            "metadata": {},
            "outputs": [],
            "source": [
                "# How many movies have a below-average occupancy rate in each classification category?\n",
                "total_sales.groupby('classification', group_keys=True)['occupancy_rate'].apply(lambda x: x < x.mean()).sum()"
            ]
        }
    ],
    "metadata": {
        "kernelspec": {
            "display_name": "venv",
            "language": "python",
            "name": "python3"
        },
        "language_info": {
            "codemirror_mode": {
                "name": "ipython",
                "version": 3
            },
            "file_extension": ".py",
            "mimetype": "text/x-python",
            "name": "python",
            "nbconvert_exporter": "python",
            "pygments_lexer": "ipython3",
            "version": "3.10.10"
        },
        "vscode": {
            "interpreter": {
                "hash": "6f6edda5b818f5a13222da33b598d5b303066a7ae90d6beab9f7ab3dbf2e452e"
            }
        }
    },
    "nbformat": 4,
    "nbformat_minor": 4
}
